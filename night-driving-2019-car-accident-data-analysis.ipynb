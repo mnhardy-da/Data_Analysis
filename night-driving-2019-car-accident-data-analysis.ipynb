{
 "cells": [
  {
   "cell_type": "markdown",
   "execution_count": null,
   "metadata": {},
   "source": [
    "# Car Accidents in the Contiguous United States and Why Americans should consider driving more at night. \n",
    "## A data analysis and visualization by Montel Hardy"
   ]
  },
  {
   "cell_type": "markdown",
   "execution_count": null,
   "metadata": {},
   "source": [
    "### The following is the cleaning, analysis, and visualization of a dataset covering nearly three years of car accident data in the United States. The below dataset features about three million accidents spanning 48 states from February 2016 to December 2019, collected by Bing and Mapquest. Below are some of the insights from the data I've visualized, many are included near their visualizations.\n",
    "\n",
    "* Three times as many accidents havve occurred during the day than at night.\n",
    "* Severe accidents aren't occuring more frequently at night than during the day.\n",
    "* For more severe accidents (rating of 3 or 4), there is strong is a correlation between reduced visibility and accident severity.\n",
    "* States with large populations don't necessarily have a large number of accidents aside from California. Part of this could be due to the accesibility of public transportation in some states."
   ]
  },
  {
   "cell_type": "markdown",
   "execution_count": null,
   "metadata": {},
   "source": [
    "## References & Disclaimer\n",
    "\n",
    "\n",
    "  #### Moosavi, Sobhan, Mohammad Hossein Samavatian, Srinivasan Parthasarathy, and Rajiv Ramnath. “A Countrywide Traffic Accident Dataset.”, arXiv preprint arXiv:1906.05409 (2019).\n",
    "   \n",
    " #### Moosavi, Sobhan, Mohammad Hossein Samavatian, Srinivasan Parthasarathy, Radu Teodorescu, and Rajiv Ramnath. “Accident Risk Prediction based on Heterogeneous Sparse Data: New Dataset and Insights.” In proceedings of the 27th ACM SIGSPATIAL International Conference on Advances in Geographic Information Systems, ACM, 2019.******\n",
    "\n",
    "\n",
    "#### This dataset is being distributed only for Research purposes, under Creative Commons Attribution-Noncommercial-ShareAlike license (https://creativecommons.org/licenses/by-nc-sa/4.0/).  You may cite the above papers if you use this dataset.*******\n",
    "\n",
    "#### The dataset can be found here: https://osu.app.box.com/v/us-accidents-dec19"
   ]
  },
  {
   "cell_type": "markdown",
   "execution_count": null,
   "metadata": {},
   "source": [
    "https://creativecommons.org/licenses/by-nc-sa/4.0/"
   ]
  },
  {
   "cell_type": "markdown",
   "execution_count": null,
   "metadata": {},
   "source": [
    "# Getting Started"
   ]
  },
  {
   "cell_type": "markdown",
   "execution_count": null,
   "metadata": {},
   "source": [
    "###  First, I'll confirm that I'm running Python and import the proper libraries. Next, I will read in the csv file."
   ]
  },
  {
   "cell_type": "code",
   "execution_count": 1,
   "metadata": {
    "_cell_guid": "79c7e3d0-c299-4dcb-8224-4455121ee9b0",
    "_uuid": "d629ff2d2480ee46fbb7e2d37f6b5fab8052498a"
   },
   "outputs": [],
   "source": [
    "run python"
   ]
  },
  {
   "cell_type": "code",
   "execution_count": 2,
   "metadata": {},
   "outputs": [
    {
     "name": "stdout",
     "output_type": "stream",
     "text": [
      "All Set!\n"
     ]
    }
   ],
   "source": [
    "import pandas as pd\n",
    "import matplotlib.pyplot as plt\n",
    "import seaborn as sns\n",
    "import numpy as np\n",
    "import geopandas as gpd\n",
    "import plotly.graph_objects as go\n",
    "import matplotlib.ticker as ticker\n",
    "\n",
    "\n",
    "\n",
    "print ('All Set!')"
   ]
  },
  {
   "cell_type": "code",
   "execution_count": 3,
   "metadata": {},
   "outputs": [
    {
     "name": "stdout",
     "output_type": "stream",
     "text": [
      "Folium installed and imported!\n"
     ]
    }
   ],
   "source": [
    "import folium\n",
    "\n",
    "print('Folium installed and imported!')"
   ]
  },
  {
   "cell_type": "code",
   "execution_count": 4,
   "metadata": {},
   "outputs": [],
   "source": [
    "df=pd.read_csv('../input/2019-accident-data/US_Accidents_Dec19.csv')\n",
    "\n",
    "us_accidents = df"
   ]
  },
  {
   "cell_type": "markdown",
   "execution_count": null,
   "metadata": {},
   "source": [
    "# Data Cleaning"
   ]
  },
  {
   "cell_type": "markdown",
   "execution_count": null,
   "metadata": {},
   "source": [
    "### First, lets inspect the dataset. By using the shape(), head(), and isnull() functions; we can get a better picture look at our dataset and identify how to best prepare the data for analysis. In the below cell, we discover that 49 columns and just under three million rows make up the shape of our data set."
   ]
  },
  {
   "cell_type": "code",
   "execution_count": 5,
   "metadata": {},
   "outputs": [
    {
     "data": {
      "text/plain": [
       "(2974335, 49)"
      ]
     },
     "execution_count": 5,
     "metadata": {},
     "output_type": "execute_result"
    }
   ],
   "source": [
    "us_accidents.shape"
   ]
  },
  {
   "cell_type": "markdown",
   "execution_count": null,
   "metadata": {},
   "source": [
    "### We can see a preview of the aforementioned rows and columns below. "
   ]
  },
  {
   "cell_type": "code",
   "execution_count": 6,
   "metadata": {},
   "outputs": [
    {
     "data": {
      "text/html": [
       "<div>\n",
       "<style scoped>\n",
       "    .dataframe tbody tr th:only-of-type {\n",
       "        vertical-align: middle;\n",
       "    }\n",
       "\n",
       "    .dataframe tbody tr th {\n",
       "        vertical-align: top;\n",
       "    }\n",
       "\n",
       "    .dataframe thead th {\n",
       "        text-align: right;\n",
       "    }\n",
       "</style>\n",
       "<table border=\"1\" class=\"dataframe\">\n",
       "  <thead>\n",
       "    <tr style=\"text-align: right;\">\n",
       "      <th></th>\n",
       "      <th>ID</th>\n",
       "      <th>Source</th>\n",
       "      <th>TMC</th>\n",
       "      <th>Severity</th>\n",
       "      <th>Start_Time</th>\n",
       "      <th>End_Time</th>\n",
       "      <th>Start_Lat</th>\n",
       "      <th>Start_Lng</th>\n",
       "      <th>End_Lat</th>\n",
       "      <th>End_Lng</th>\n",
       "      <th>...</th>\n",
       "      <th>Roundabout</th>\n",
       "      <th>Station</th>\n",
       "      <th>Stop</th>\n",
       "      <th>Traffic_Calming</th>\n",
       "      <th>Traffic_Signal</th>\n",
       "      <th>Turning_Loop</th>\n",
       "      <th>Sunrise_Sunset</th>\n",
       "      <th>Civil_Twilight</th>\n",
       "      <th>Nautical_Twilight</th>\n",
       "      <th>Astronomical_Twilight</th>\n",
       "    </tr>\n",
       "  </thead>\n",
       "  <tbody>\n",
       "    <tr>\n",
       "      <th>0</th>\n",
       "      <td>A-1</td>\n",
       "      <td>MapQuest</td>\n",
       "      <td>201.0</td>\n",
       "      <td>3</td>\n",
       "      <td>2016-02-08 05:46:00</td>\n",
       "      <td>2016-02-08 11:00:00</td>\n",
       "      <td>39.865147</td>\n",
       "      <td>-84.058723</td>\n",
       "      <td>NaN</td>\n",
       "      <td>NaN</td>\n",
       "      <td>...</td>\n",
       "      <td>False</td>\n",
       "      <td>False</td>\n",
       "      <td>False</td>\n",
       "      <td>False</td>\n",
       "      <td>False</td>\n",
       "      <td>False</td>\n",
       "      <td>Night</td>\n",
       "      <td>Night</td>\n",
       "      <td>Night</td>\n",
       "      <td>Night</td>\n",
       "    </tr>\n",
       "    <tr>\n",
       "      <th>1</th>\n",
       "      <td>A-2</td>\n",
       "      <td>MapQuest</td>\n",
       "      <td>201.0</td>\n",
       "      <td>2</td>\n",
       "      <td>2016-02-08 06:07:59</td>\n",
       "      <td>2016-02-08 06:37:59</td>\n",
       "      <td>39.928059</td>\n",
       "      <td>-82.831184</td>\n",
       "      <td>NaN</td>\n",
       "      <td>NaN</td>\n",
       "      <td>...</td>\n",
       "      <td>False</td>\n",
       "      <td>False</td>\n",
       "      <td>False</td>\n",
       "      <td>False</td>\n",
       "      <td>False</td>\n",
       "      <td>False</td>\n",
       "      <td>Night</td>\n",
       "      <td>Night</td>\n",
       "      <td>Night</td>\n",
       "      <td>Day</td>\n",
       "    </tr>\n",
       "    <tr>\n",
       "      <th>2</th>\n",
       "      <td>A-3</td>\n",
       "      <td>MapQuest</td>\n",
       "      <td>201.0</td>\n",
       "      <td>2</td>\n",
       "      <td>2016-02-08 06:49:27</td>\n",
       "      <td>2016-02-08 07:19:27</td>\n",
       "      <td>39.063148</td>\n",
       "      <td>-84.032608</td>\n",
       "      <td>NaN</td>\n",
       "      <td>NaN</td>\n",
       "      <td>...</td>\n",
       "      <td>False</td>\n",
       "      <td>False</td>\n",
       "      <td>False</td>\n",
       "      <td>False</td>\n",
       "      <td>True</td>\n",
       "      <td>False</td>\n",
       "      <td>Night</td>\n",
       "      <td>Night</td>\n",
       "      <td>Day</td>\n",
       "      <td>Day</td>\n",
       "    </tr>\n",
       "    <tr>\n",
       "      <th>3</th>\n",
       "      <td>A-4</td>\n",
       "      <td>MapQuest</td>\n",
       "      <td>201.0</td>\n",
       "      <td>3</td>\n",
       "      <td>2016-02-08 07:23:34</td>\n",
       "      <td>2016-02-08 07:53:34</td>\n",
       "      <td>39.747753</td>\n",
       "      <td>-84.205582</td>\n",
       "      <td>NaN</td>\n",
       "      <td>NaN</td>\n",
       "      <td>...</td>\n",
       "      <td>False</td>\n",
       "      <td>False</td>\n",
       "      <td>False</td>\n",
       "      <td>False</td>\n",
       "      <td>False</td>\n",
       "      <td>False</td>\n",
       "      <td>Night</td>\n",
       "      <td>Day</td>\n",
       "      <td>Day</td>\n",
       "      <td>Day</td>\n",
       "    </tr>\n",
       "    <tr>\n",
       "      <th>4</th>\n",
       "      <td>A-5</td>\n",
       "      <td>MapQuest</td>\n",
       "      <td>201.0</td>\n",
       "      <td>2</td>\n",
       "      <td>2016-02-08 07:39:07</td>\n",
       "      <td>2016-02-08 08:09:07</td>\n",
       "      <td>39.627781</td>\n",
       "      <td>-84.188354</td>\n",
       "      <td>NaN</td>\n",
       "      <td>NaN</td>\n",
       "      <td>...</td>\n",
       "      <td>False</td>\n",
       "      <td>False</td>\n",
       "      <td>False</td>\n",
       "      <td>False</td>\n",
       "      <td>True</td>\n",
       "      <td>False</td>\n",
       "      <td>Day</td>\n",
       "      <td>Day</td>\n",
       "      <td>Day</td>\n",
       "      <td>Day</td>\n",
       "    </tr>\n",
       "  </tbody>\n",
       "</table>\n",
       "<p>5 rows × 49 columns</p>\n",
       "</div>"
      ],
      "text/plain": [
       "    ID    Source    TMC  Severity           Start_Time             End_Time  \\\n",
       "0  A-1  MapQuest  201.0         3  2016-02-08 05:46:00  2016-02-08 11:00:00   \n",
       "1  A-2  MapQuest  201.0         2  2016-02-08 06:07:59  2016-02-08 06:37:59   \n",
       "2  A-3  MapQuest  201.0         2  2016-02-08 06:49:27  2016-02-08 07:19:27   \n",
       "3  A-4  MapQuest  201.0         3  2016-02-08 07:23:34  2016-02-08 07:53:34   \n",
       "4  A-5  MapQuest  201.0         2  2016-02-08 07:39:07  2016-02-08 08:09:07   \n",
       "\n",
       "   Start_Lat  Start_Lng  End_Lat  End_Lng  ...  Roundabout Station   Stop  \\\n",
       "0  39.865147 -84.058723      NaN      NaN  ...       False   False  False   \n",
       "1  39.928059 -82.831184      NaN      NaN  ...       False   False  False   \n",
       "2  39.063148 -84.032608      NaN      NaN  ...       False   False  False   \n",
       "3  39.747753 -84.205582      NaN      NaN  ...       False   False  False   \n",
       "4  39.627781 -84.188354      NaN      NaN  ...       False   False  False   \n",
       "\n",
       "  Traffic_Calming Traffic_Signal Turning_Loop Sunrise_Sunset Civil_Twilight  \\\n",
       "0           False          False        False          Night          Night   \n",
       "1           False          False        False          Night          Night   \n",
       "2           False           True        False          Night          Night   \n",
       "3           False          False        False          Night            Day   \n",
       "4           False           True        False            Day            Day   \n",
       "\n",
       "  Nautical_Twilight Astronomical_Twilight  \n",
       "0             Night                 Night  \n",
       "1             Night                   Day  \n",
       "2               Day                   Day  \n",
       "3               Day                   Day  \n",
       "4               Day                   Day  \n",
       "\n",
       "[5 rows x 49 columns]"
      ]
     },
     "execution_count": 6,
     "metadata": {},
     "output_type": "execute_result"
    }
   ],
   "source": [
    "us_accidents.head()"
   ]
  },
  {
   "cell_type": "markdown",
   "execution_count": null,
   "metadata": {},
   "source": [
    "### The dataframe produced by the modified isnull() function identifies the amount of rows with missing data for each column. First, rows that have no value or have value that is unintelligible will be deleted from the dataset. As you can see below, there are a good number of columns with missing data. \n",
    "\n",
    "### We'll delete a few columns that we won't be using. This process will gave us a dataset with no missing values, a few less columns and still leave over two million accidents for analysis and visualization."
   ]
  },
  {
   "cell_type": "code",
   "execution_count": 7,
   "metadata": {},
   "outputs": [
    {
     "data": {
      "text/plain": [
       "ID                             0\n",
       "Source                         0\n",
       "TMC                       728071\n",
       "Severity                       0\n",
       "Start_Time                     0\n",
       "End_Time                       0\n",
       "Start_Lat                      0\n",
       "Start_Lng                      0\n",
       "End_Lat                  2246264\n",
       "End_Lng                  2246264\n",
       "Distance(mi)                   0\n",
       "Description                    1\n",
       "Number                   1917605\n",
       "Street                         0\n",
       "Side                           0\n",
       "City                          83\n",
       "County                         0\n",
       "State                          0\n",
       "Zipcode                      880\n",
       "Country                        0\n",
       "Timezone                    3163\n",
       "Airport_Code                5691\n",
       "Weather_Timestamp          36705\n",
       "Temperature(F)             56063\n",
       "Wind_Chill(F)            1852623\n",
       "Humidity(%)                59173\n",
       "Pressure(in)               48142\n",
       "Visibility(mi)             65691\n",
       "Wind_Direction             45101\n",
       "Wind_Speed(mph)           440840\n",
       "Precipitation(in)        1998358\n",
       "Weather_Condition          65932\n",
       "Amenity                        0\n",
       "Bump                           0\n",
       "Crossing                       0\n",
       "Give_Way                       0\n",
       "Junction                       0\n",
       "No_Exit                        0\n",
       "Railway                        0\n",
       "Roundabout                     0\n",
       "Station                        0\n",
       "Stop                           0\n",
       "Traffic_Calming                0\n",
       "Traffic_Signal                 0\n",
       "Turning_Loop                   0\n",
       "Sunrise_Sunset                93\n",
       "Civil_Twilight                93\n",
       "Nautical_Twilight             93\n",
       "Astronomical_Twilight         93\n",
       "dtype: int64"
      ]
     },
     "execution_count": 7,
     "metadata": {},
     "output_type": "execute_result"
    }
   ],
   "source": [
    "us_accidents.isnull().sum()"
   ]
  },
  {
   "cell_type": "markdown",
   "execution_count": null,
   "metadata": {},
   "source": [
    "### Below is where remove the columns from the dataframe."
   ]
  },
  {
   "cell_type": "code",
   "execution_count": 8,
   "metadata": {},
   "outputs": [],
   "source": [
    "us_accidents.drop(['Astronomical_Twilight','Nautical_Twilight','Civil_Twilight','TMC','End_Lng','End_Lat','Number','Wind_Chill(F)',\n",
    "                  'Precipitation(in)'], axis=1,inplace=True)"
   ]
  },
  {
   "cell_type": "code",
   "execution_count": 9,
   "metadata": {},
   "outputs": [],
   "source": [
    "us_accidents.dropna(subset=[\"Sunrise_Sunset\",\"Description\",\"Zipcode\",\"Timezone\",\n",
    "                            \"Airport_Code\",\"Weather_Timestamp\",\"Temperature(F)\",\"Humidity(%)\",\"Pressure(in)\",\"Visibility(mi)\",\n",
    "                           \"Wind_Direction\",\"Weather_Condition\"], axis=0, how= 'any',inplace= True)"
   ]
  },
  {
   "cell_type": "code",
   "execution_count": 10,
   "metadata": {
    "_kg_hide-input": true,
    "_kg_hide-output": true
   },
   "outputs": [],
   "source": [
    "us_accidents.drop(['Wind_Speed(mph)'], axis=1,inplace=True)"
   ]
  },
  {
   "cell_type": "markdown",
   "execution_count": null,
   "metadata": {},
   "source": [
    "### After dropping the necessary columns and rows, our data no longer has missing values. We'll use the shape() function to ensure that we still have a very large amount of clean data to work with. With that said, the next part of this project."
   ]
  },
  {
   "cell_type": "code",
   "execution_count": 11,
   "metadata": {},
   "outputs": [
    {
     "data": {
      "text/plain": [
       "ID                   0\n",
       "Source               0\n",
       "Severity             0\n",
       "Start_Time           0\n",
       "End_Time             0\n",
       "Start_Lat            0\n",
       "Start_Lng            0\n",
       "Distance(mi)         0\n",
       "Description          0\n",
       "Street               0\n",
       "Side                 0\n",
       "City                 0\n",
       "County               0\n",
       "State                0\n",
       "Zipcode              0\n",
       "Country              0\n",
       "Timezone             0\n",
       "Airport_Code         0\n",
       "Weather_Timestamp    0\n",
       "Temperature(F)       0\n",
       "Humidity(%)          0\n",
       "Pressure(in)         0\n",
       "Visibility(mi)       0\n",
       "Wind_Direction       0\n",
       "Weather_Condition    0\n",
       "Amenity              0\n",
       "Bump                 0\n",
       "Crossing             0\n",
       "Give_Way             0\n",
       "Junction             0\n",
       "No_Exit              0\n",
       "Railway              0\n",
       "Roundabout           0\n",
       "Station              0\n",
       "Stop                 0\n",
       "Traffic_Calming      0\n",
       "Traffic_Signal       0\n",
       "Turning_Loop         0\n",
       "Sunrise_Sunset       0\n",
       "dtype: int64"
      ]
     },
     "execution_count": 11,
     "metadata": {},
     "output_type": "execute_result"
    }
   ],
   "source": [
    "us_accidents.isnull().sum()"
   ]
  },
  {
   "cell_type": "code",
   "execution_count": 12,
   "metadata": {},
   "outputs": [
    {
     "data": {
      "text/plain": [
       "(2881492, 39)"
      ]
     },
     "execution_count": 12,
     "metadata": {},
     "output_type": "execute_result"
    }
   ],
   "source": [
    "us_accidents.shape"
   ]
  },
  {
   "cell_type": "markdown",
   "execution_count": null,
   "metadata": {},
   "source": [
    "# Data Visualization"
   ]
  },
  {
   "cell_type": "markdown",
   "execution_count": null,
   "metadata": {},
   "source": [
    "### For our first visualization we'll use the US map to visualize the accident data across the 48 states. In order to do this, we have to read in a world map file and download a GeoJSON file."
   ]
  },
  {
   "cell_type": "code",
   "execution_count": 13,
   "metadata": {},
   "outputs": [],
   "source": [
    "world = gpd.read_file(gpd.datasets.get_path('naturalearth_lowres'))"
   ]
  },
  {
   "cell_type": "code",
   "execution_count": 14,
   "metadata": {},
   "outputs": [
    {
     "name": "stdout",
     "output_type": "stream",
     "text": [
      "GeoJSON file downloaded!\n"
     ]
    }
   ],
   "source": [
    "!wget --quiet https://s3-api.us-geo.objectstorage.softlayer.net/cf-courses-data/CognitiveClass/DV0101EN/labs/Data_Files/world_countries.json -O world_countries.json\n",
    "    \n",
    "print('GeoJSON file downloaded!')"
   ]
  },
  {
   "cell_type": "code",
   "execution_count": 15,
   "metadata": {},
   "outputs": [
    {
     "data": {
      "text/html": [
       "        <script type=\"text/javascript\">\n",
       "        window.PlotlyConfig = {MathJaxConfig: 'local'};\n",
       "        if (window.MathJax) {MathJax.Hub.Config({SVG: {font: \"STIX-Web\"}});}\n",
       "        if (typeof require !== 'undefined') {\n",
       "        require.undef(\"plotly\");\n",
       "        requirejs.config({\n",
       "            paths: {\n",
       "                'plotly': ['https://cdn.plot.ly/plotly-latest.min']\n",
       "            }\n",
       "        });\n",
       "        require(['plotly'], function(Plotly) {\n",
       "            window._Plotly = Plotly;\n",
       "        });\n",
       "        }\n",
       "        </script>\n",
       "        "
      ]
     },
     "metadata": {},
     "output_type": "display_data"
    },
    {
     "data": {
      "text/html": [
       "<div>\n",
       "        \n",
       "        \n",
       "            <div id=\"9ee895dc-055e-46fb-8de9-f0d966af38a9\" class=\"plotly-graph-div\" style=\"height:525px; width:100%;\"></div>\n",
       "            <script type=\"text/javascript\">\n",
       "                require([\"plotly\"], function(Plotly) {\n",
       "                    window.PLOTLYENV=window.PLOTLYENV || {};\n",
       "                    \n",
       "                if (document.getElementById(\"9ee895dc-055e-46fb-8de9-f0d966af38a9\")) {\n",
       "                    Plotly.newPlot(\n",
       "                        '9ee895dc-055e-46fb-8de9-f0d966af38a9',\n",
       "                        [{\"colorbar\": {\"title\": {\"text\": \"Count\"}}, \"colorscale\": [[0.0, \"#0d0887\"], [0.1111111111111111, \"#46039f\"], [0.2222222222222222, \"#7201a8\"], [0.3333333333333333, \"#9c179e\"], [0.4444444444444444, \"#bd3786\"], [0.5555555555555556, \"#d8576b\"], [0.6666666666666666, \"#ed7953\"], [0.7777777777777778, \"#fb9f3a\"], [0.8888888888888888, \"#fdca26\"], [1.0, \"#f0f921\"]], \"locationmode\": \"USA-states\", \"locations\": [\"CA\", \"TX\", \"FL\", \"SC\", \"NC\", \"NY\", \"PA\", \"MI\", \"IL\", \"GA\", \"VA\", \"OR\", \"MN\", \"WA\", \"AZ\", \"TN\", \"OH\", \"LA\", \"OK\", \"NJ\", \"CO\", \"UT\", \"AL\", \"MD\", \"MA\", \"IN\", \"MO\", \"CT\", \"NE\", \"KY\", \"WI\", \"RI\", \"IA\", \"NV\", \"NH\", \"MS\", \"NM\", \"DE\", \"KS\", \"DC\", \"WV\", \"ME\", \"ID\", \"AR\", \"VT\", \"MT\", \"WY\", \"SD\", \"ND\"], \"type\": \"choropleth\", \"z\": [640762.0, 289488.0, 218537.0, 142600.0, 141094.0, 134593.0, 88295.0, 88180.0, 85953.0, 81692.0, 74652.0, 69250.0, 60994.0, 60442.0, 59228.0, 57734.0, 55356.0, 52059.0, 50547.0, 47296.0, 39266.0, 38035.0, 35661.0, 33260.0, 30240.0, 29263.0, 28155.0, 22621.0, 22306.0, 18955.0, 17434.0, 9981.0, 9867.0, 9362.0, 6917.0, 5767.0, 4993.0, 4386.0, 4274.0, 2832.0, 2226.0, 2016.0, 1660.0, 1633.0, 569.0, 490.0, 471.0, 59.0, 41.0]}],\n",
       "                        {\"geo\": {\"scope\": \"usa\"}, \"template\": {\"data\": {\"bar\": [{\"error_x\": {\"color\": \"#2a3f5f\"}, \"error_y\": {\"color\": \"#2a3f5f\"}, \"marker\": {\"line\": {\"color\": \"#E5ECF6\", \"width\": 0.5}}, \"type\": \"bar\"}], \"barpolar\": [{\"marker\": {\"line\": {\"color\": \"#E5ECF6\", \"width\": 0.5}}, \"type\": \"barpolar\"}], \"carpet\": [{\"aaxis\": {\"endlinecolor\": \"#2a3f5f\", \"gridcolor\": \"white\", \"linecolor\": \"white\", \"minorgridcolor\": \"white\", \"startlinecolor\": \"#2a3f5f\"}, \"baxis\": {\"endlinecolor\": \"#2a3f5f\", \"gridcolor\": \"white\", \"linecolor\": \"white\", \"minorgridcolor\": \"white\", \"startlinecolor\": \"#2a3f5f\"}, \"type\": \"carpet\"}], \"choropleth\": [{\"colorbar\": {\"outlinewidth\": 0, \"ticks\": \"\"}, \"type\": \"choropleth\"}], \"contour\": [{\"colorbar\": {\"outlinewidth\": 0, \"ticks\": \"\"}, \"colorscale\": [[0.0, \"#0d0887\"], [0.1111111111111111, \"#46039f\"], [0.2222222222222222, \"#7201a8\"], [0.3333333333333333, \"#9c179e\"], [0.4444444444444444, \"#bd3786\"], [0.5555555555555556, \"#d8576b\"], [0.6666666666666666, \"#ed7953\"], [0.7777777777777778, \"#fb9f3a\"], [0.8888888888888888, \"#fdca26\"], [1.0, \"#f0f921\"]], \"type\": \"contour\"}], \"contourcarpet\": [{\"colorbar\": {\"outlinewidth\": 0, \"ticks\": \"\"}, \"type\": \"contourcarpet\"}], \"heatmap\": [{\"colorbar\": {\"outlinewidth\": 0, \"ticks\": \"\"}, \"colorscale\": [[0.0, \"#0d0887\"], [0.1111111111111111, \"#46039f\"], [0.2222222222222222, \"#7201a8\"], [0.3333333333333333, \"#9c179e\"], [0.4444444444444444, \"#bd3786\"], [0.5555555555555556, \"#d8576b\"], [0.6666666666666666, \"#ed7953\"], [0.7777777777777778, \"#fb9f3a\"], [0.8888888888888888, \"#fdca26\"], [1.0, \"#f0f921\"]], \"type\": \"heatmap\"}], \"heatmapgl\": [{\"colorbar\": {\"outlinewidth\": 0, \"ticks\": \"\"}, \"colorscale\": [[0.0, \"#0d0887\"], [0.1111111111111111, \"#46039f\"], [0.2222222222222222, \"#7201a8\"], [0.3333333333333333, \"#9c179e\"], [0.4444444444444444, \"#bd3786\"], [0.5555555555555556, \"#d8576b\"], [0.6666666666666666, \"#ed7953\"], [0.7777777777777778, \"#fb9f3a\"], [0.8888888888888888, \"#fdca26\"], [1.0, \"#f0f921\"]], \"type\": \"heatmapgl\"}], \"histogram\": [{\"marker\": {\"colorbar\": {\"outlinewidth\": 0, \"ticks\": \"\"}}, \"type\": \"histogram\"}], \"histogram2d\": [{\"colorbar\": {\"outlinewidth\": 0, \"ticks\": \"\"}, \"colorscale\": [[0.0, \"#0d0887\"], [0.1111111111111111, \"#46039f\"], [0.2222222222222222, \"#7201a8\"], [0.3333333333333333, \"#9c179e\"], [0.4444444444444444, \"#bd3786\"], [0.5555555555555556, \"#d8576b\"], [0.6666666666666666, \"#ed7953\"], [0.7777777777777778, \"#fb9f3a\"], [0.8888888888888888, \"#fdca26\"], [1.0, \"#f0f921\"]], \"type\": \"histogram2d\"}], \"histogram2dcontour\": [{\"colorbar\": {\"outlinewidth\": 0, \"ticks\": \"\"}, \"colorscale\": [[0.0, \"#0d0887\"], [0.1111111111111111, \"#46039f\"], [0.2222222222222222, \"#7201a8\"], [0.3333333333333333, \"#9c179e\"], [0.4444444444444444, \"#bd3786\"], [0.5555555555555556, \"#d8576b\"], [0.6666666666666666, \"#ed7953\"], [0.7777777777777778, \"#fb9f3a\"], [0.8888888888888888, \"#fdca26\"], [1.0, \"#f0f921\"]], \"type\": \"histogram2dcontour\"}], \"mesh3d\": [{\"colorbar\": {\"outlinewidth\": 0, \"ticks\": \"\"}, \"type\": \"mesh3d\"}], \"parcoords\": [{\"line\": {\"colorbar\": {\"outlinewidth\": 0, \"ticks\": \"\"}}, \"type\": \"parcoords\"}], \"pie\": [{\"automargin\": true, \"type\": \"pie\"}], \"scatter\": [{\"marker\": {\"colorbar\": {\"outlinewidth\": 0, \"ticks\": \"\"}}, \"type\": \"scatter\"}], \"scatter3d\": [{\"line\": {\"colorbar\": {\"outlinewidth\": 0, \"ticks\": \"\"}}, \"marker\": {\"colorbar\": {\"outlinewidth\": 0, \"ticks\": \"\"}}, \"type\": \"scatter3d\"}], \"scattercarpet\": [{\"marker\": {\"colorbar\": {\"outlinewidth\": 0, \"ticks\": \"\"}}, \"type\": \"scattercarpet\"}], \"scattergeo\": [{\"marker\": {\"colorbar\": {\"outlinewidth\": 0, \"ticks\": \"\"}}, \"type\": \"scattergeo\"}], \"scattergl\": [{\"marker\": {\"colorbar\": {\"outlinewidth\": 0, \"ticks\": \"\"}}, \"type\": \"scattergl\"}], \"scattermapbox\": [{\"marker\": {\"colorbar\": {\"outlinewidth\": 0, \"ticks\": \"\"}}, \"type\": \"scattermapbox\"}], \"scatterpolar\": [{\"marker\": {\"colorbar\": {\"outlinewidth\": 0, \"ticks\": \"\"}}, \"type\": \"scatterpolar\"}], \"scatterpolargl\": [{\"marker\": {\"colorbar\": {\"outlinewidth\": 0, \"ticks\": \"\"}}, \"type\": \"scatterpolargl\"}], \"scatterternary\": [{\"marker\": {\"colorbar\": {\"outlinewidth\": 0, \"ticks\": \"\"}}, \"type\": \"scatterternary\"}], \"surface\": [{\"colorbar\": {\"outlinewidth\": 0, \"ticks\": \"\"}, \"colorscale\": [[0.0, \"#0d0887\"], [0.1111111111111111, \"#46039f\"], [0.2222222222222222, \"#7201a8\"], [0.3333333333333333, \"#9c179e\"], [0.4444444444444444, \"#bd3786\"], [0.5555555555555556, \"#d8576b\"], [0.6666666666666666, \"#ed7953\"], [0.7777777777777778, \"#fb9f3a\"], [0.8888888888888888, \"#fdca26\"], [1.0, \"#f0f921\"]], \"type\": \"surface\"}], \"table\": [{\"cells\": {\"fill\": {\"color\": \"#EBF0F8\"}, \"line\": {\"color\": \"white\"}}, \"header\": {\"fill\": {\"color\": \"#C8D4E3\"}, \"line\": {\"color\": \"white\"}}, \"type\": \"table\"}]}, \"layout\": {\"annotationdefaults\": {\"arrowcolor\": \"#2a3f5f\", \"arrowhead\": 0, \"arrowwidth\": 1}, \"coloraxis\": {\"colorbar\": {\"outlinewidth\": 0, \"ticks\": \"\"}}, \"colorscale\": {\"diverging\": [[0, \"#8e0152\"], [0.1, \"#c51b7d\"], [0.2, \"#de77ae\"], [0.3, \"#f1b6da\"], [0.4, \"#fde0ef\"], [0.5, \"#f7f7f7\"], [0.6, \"#e6f5d0\"], [0.7, \"#b8e186\"], [0.8, \"#7fbc41\"], [0.9, \"#4d9221\"], [1, \"#276419\"]], \"sequential\": [[0.0, \"#0d0887\"], [0.1111111111111111, \"#46039f\"], [0.2222222222222222, \"#7201a8\"], [0.3333333333333333, \"#9c179e\"], [0.4444444444444444, \"#bd3786\"], [0.5555555555555556, \"#d8576b\"], [0.6666666666666666, \"#ed7953\"], [0.7777777777777778, \"#fb9f3a\"], [0.8888888888888888, \"#fdca26\"], [1.0, \"#f0f921\"]], \"sequentialminus\": [[0.0, \"#0d0887\"], [0.1111111111111111, \"#46039f\"], [0.2222222222222222, \"#7201a8\"], [0.3333333333333333, \"#9c179e\"], [0.4444444444444444, \"#bd3786\"], [0.5555555555555556, \"#d8576b\"], [0.6666666666666666, \"#ed7953\"], [0.7777777777777778, \"#fb9f3a\"], [0.8888888888888888, \"#fdca26\"], [1.0, \"#f0f921\"]]}, \"colorway\": [\"#636efa\", \"#EF553B\", \"#00cc96\", \"#ab63fa\", \"#FFA15A\", \"#19d3f3\", \"#FF6692\", \"#B6E880\", \"#FF97FF\", \"#FECB52\"], \"font\": {\"color\": \"#2a3f5f\"}, \"geo\": {\"bgcolor\": \"white\", \"lakecolor\": \"white\", \"landcolor\": \"#E5ECF6\", \"showlakes\": true, \"showland\": true, \"subunitcolor\": \"white\"}, \"hoverlabel\": {\"align\": \"left\"}, \"hovermode\": \"closest\", \"mapbox\": {\"style\": \"light\"}, \"paper_bgcolor\": \"white\", \"plot_bgcolor\": \"#E5ECF6\", \"polar\": {\"angularaxis\": {\"gridcolor\": \"white\", \"linecolor\": \"white\", \"ticks\": \"\"}, \"bgcolor\": \"#E5ECF6\", \"radialaxis\": {\"gridcolor\": \"white\", \"linecolor\": \"white\", \"ticks\": \"\"}}, \"scene\": {\"xaxis\": {\"backgroundcolor\": \"#E5ECF6\", \"gridcolor\": \"white\", \"gridwidth\": 2, \"linecolor\": \"white\", \"showbackground\": true, \"ticks\": \"\", \"zerolinecolor\": \"white\"}, \"yaxis\": {\"backgroundcolor\": \"#E5ECF6\", \"gridcolor\": \"white\", \"gridwidth\": 2, \"linecolor\": \"white\", \"showbackground\": true, \"ticks\": \"\", \"zerolinecolor\": \"white\"}, \"zaxis\": {\"backgroundcolor\": \"#E5ECF6\", \"gridcolor\": \"white\", \"gridwidth\": 2, \"linecolor\": \"white\", \"showbackground\": true, \"ticks\": \"\", \"zerolinecolor\": \"white\"}}, \"shapedefaults\": {\"line\": {\"color\": \"#2a3f5f\"}}, \"ternary\": {\"aaxis\": {\"gridcolor\": \"white\", \"linecolor\": \"white\", \"ticks\": \"\"}, \"baxis\": {\"gridcolor\": \"white\", \"linecolor\": \"white\", \"ticks\": \"\"}, \"bgcolor\": \"#E5ECF6\", \"caxis\": {\"gridcolor\": \"white\", \"linecolor\": \"white\", \"ticks\": \"\"}}, \"title\": {\"x\": 0.05}, \"xaxis\": {\"automargin\": true, \"gridcolor\": \"white\", \"linecolor\": \"white\", \"ticks\": \"\", \"title\": {\"standoff\": 15}, \"zerolinecolor\": \"white\", \"zerolinewidth\": 2}, \"yaxis\": {\"automargin\": true, \"gridcolor\": \"white\", \"linecolor\": \"white\", \"ticks\": \"\", \"title\": {\"standoff\": 15}, \"zerolinecolor\": \"white\", \"zerolinewidth\": 2}}}, \"title\": {\"text\": \"United States Accidents Visualization (2016-2019)\"}},\n",
       "                        {\"responsive\": true}\n",
       "                    ).then(function(){\n",
       "                            \n",
       "var gd = document.getElementById('9ee895dc-055e-46fb-8de9-f0d966af38a9');\n",
       "var x = new MutationObserver(function (mutations, observer) {{\n",
       "        var display = window.getComputedStyle(gd).display;\n",
       "        if (!display || display === 'none') {{\n",
       "            console.log([gd, 'removed!']);\n",
       "            Plotly.purge(gd);\n",
       "            observer.disconnect();\n",
       "        }}\n",
       "}});\n",
       "\n",
       "// Listen for the removal of the full notebook cells\n",
       "var notebookContainer = gd.closest('#notebook-container');\n",
       "if (notebookContainer) {{\n",
       "    x.observe(notebookContainer, {childList: true});\n",
       "}}\n",
       "\n",
       "// Listen for the clearing of the current output cell\n",
       "var outputEl = gd.closest('.output');\n",
       "if (outputEl) {{\n",
       "    x.observe(outputEl, {childList: true});\n",
       "}}\n",
       "\n",
       "                        })\n",
       "                };\n",
       "                });\n",
       "            </script>\n",
       "        </div>"
      ]
     },
     "metadata": {},
     "output_type": "display_data"
    }
   ],
   "source": [
    "state_count = pd.value_counts(df['State'])\n",
    "\n",
    "fig = go.Figure(data=go.Choropleth(\n",
    "    locations=state_count.index,\n",
    "    z = state_count.values.astype(float),  \n",
    "    locationmode = 'USA-states',     \n",
    "    colorscale = 'plasma',\n",
    "    colorbar_title = \"Count\",\n",
    "))\n",
    "\n",
    "fig.update_layout(\n",
    "    title_text = 'United States Accidents Visualization (2016-2019)',\n",
    "    geo_scope='usa', \n",
    ")\n",
    "\n",
    "fig.show()\n",
    "\n"
   ]
  },
  {
   "cell_type": "markdown",
   "execution_count": null,
   "metadata": {},
   "source": [
    "### The above map shows us that California, Texas, and Florida have the largest amount of car accidents. After those three the totals of the rest of the high-accident states seem to level off a bit.\n",
    "\n",
    "### To get a better look at states with high car accident numbers, I created a top ten list. I used the groupby function to gather these numbers in a dataframe. I varied the colors to make it look more visually apealling."
   ]
  },
  {
   "cell_type": "code",
   "execution_count": 16,
   "metadata": {},
   "outputs": [
    {
     "data": {
      "image/png": "[encoded data removed]",
      "text/plain": [
       "<Figure size 1080x576 with 1 Axes>"
      ]
     },
     "metadata": {
      "needs_background": "light"
     },
     "output_type": "display_data"
    }
   ],
   "source": [
    "\n",
    "\n",
    "df_top = df.groupby('State').size().to_frame('Counts')\n",
    "df_top = df_top.reset_index().sort_values('Counts', ascending = False)[:10]\n",
    "df_top = df_top[::-1]   \n",
    "\n",
    "colors = ['cyan', 'gold', 'coral', 'dodgerblue',\n",
    "     'palevioletred', 'peru', 'lightblue', 'lightsalmon','crimson', 'lawngreen',]\n",
    "\n",
    "fig, ax=plt.subplots(figsize=(15,8))\n",
    "ax.barh(df_top['State'], df_top['Counts'], color = colors)\n",
    "\n",
    "for i, (value, name) in enumerate(zip(df_top['Counts'], df_top['State'])):\n",
    "        ax.text(value, i,     name,           size=14, weight=600, ha='right', va='bottom')\n",
    "        ax.text(value, i-.25,     f'{value:,.0f}',  size=14, ha='left',  va='center')\n",
    "        \n",
    "ax.text(0, 1.06, 'by State', transform=ax.transAxes, size=12, color='#777777')\n",
    "ax.xaxis.set_major_formatter(ticker.StrMethodFormatter('{x:,.0f}'))\n",
    "ax.xaxis.set_ticks_position('top')\n",
    "ax.tick_params(axis='x', colors='#777777', labelsize=12)\n",
    "ax.set_yticks([])\n",
    "ax.margins(0, 0.01)\n",
    "ax.grid(which='major', axis='x', linestyle='-')\n",
    "ax.set_axisbelow(True)\n",
    "ax.text(0, 1.12, 'Top 10 States with the Highest Number of Accidents',\n",
    "            transform=ax.transAxes, size=24, weight=600, ha='left')\n",
    "plt.box(False)\n",
    "\n"
   ]
  },
  {
   "cell_type": "code",
   "execution_count": 17,
   "metadata": {},
   "outputs": [],
   "source": [
    "us_accidents.columns = list(map(str, us_accidents.columns))"
   ]
  },
  {
   "cell_type": "code",
   "execution_count": 18,
   "metadata": {},
   "outputs": [
    {
     "data": {
      "text/plain": [
       "array(['Night', 'Day'], dtype=object)"
      ]
     },
     "execution_count": 18,
     "metadata": {},
     "output_type": "execute_result"
    }
   ],
   "source": [
    "us_accidents['Sunrise_Sunset'].unique()\n"
   ]
  },
  {
   "cell_type": "markdown",
   "execution_count": null,
   "metadata": {},
   "source": [
    "### Next, we explore the relationship betwwen the frequency of accidents by part of day (day or night). I use the groupby() function to gather the data, then I visualize it with a bar chart."
   ]
  },
  {
   "cell_type": "code",
   "execution_count": 19,
   "metadata": {},
   "outputs": [
    {
     "data": {
      "text/plain": [
       "Sunrise_Sunset\n",
       "Day      2127689\n",
       "Night     753803\n",
       "dtype: int64"
      ]
     },
     "execution_count": 19,
     "metadata": {},
     "output_type": "execute_result"
    }
   ],
   "source": [
    "us_accidents.groupby('Sunrise_Sunset').size()\n"
   ]
  },
  {
   "cell_type": "code",
   "execution_count": 20,
   "metadata": {},
   "outputs": [
    {
     "data": {
      "text/plain": [
       "Text(0, 0.5, 'Time of Day')"
      ]
     },
     "execution_count": 20,
     "metadata": {},
     "output_type": "execute_result"
    },
    {
     "data": {
      "image/png": "[encoded data removed]",
      "text/plain": [
       "<Figure size 720x432 with 1 Axes>"
      ]
     },
     "metadata": {
      "needs_background": "light"
     },
     "output_type": "display_data"
    }
   ],
   "source": [
    "\n",
    "df.groupby('Sunrise_Sunset').size().plot(kind = 'barh', \n",
    "                                  color= 'lawngreen',\n",
    "                                 align = 'center',\n",
    "                                edgecolor = 'b',\n",
    "                                 linewidth = 0.9,\n",
    "                                 width = 0.3,\n",
    "                                xerr=np.std(df.groupby('Sunrise_Sunset').size()),\n",
    "                                 grid = True,figsize=(10, 6));\n",
    "\n",
    "\n",
    "plt.title('Accidents by Time of Day', fontsize=20)\n",
    "plt.xlabel('Accidents (Millions)', fontsize=16)\n",
    "plt.ylabel('Time of Day', fontsize=16)\n"
   ]
  },
  {
   "cell_type": "markdown",
   "execution_count": null,
   "metadata": {},
   "source": [
    "### These findings are very interesting because they may dispute with conventional beliefs. Due to the potential for less visibility, many people may fear night driving and try to avoid driving after sunset.\n",
    "\n",
    "### Conversely, one could say a good reason for this data is because generally people drive more during the day. However, the data set we're working with didn't quantify how many drivers were on the road during each day part. Additionally, if we assume that statement to be true, thats would support the decision to drive more at night. The following visualizations deal with other factors surrounding accidents.  \n",
    "\n",
    "### In the below scatter plot, we shift gears to analyze the impact visibility has on accident severity in the boxplot below."
   ]
  },
  {
   "cell_type": "code",
   "execution_count": 21,
   "metadata": {},
   "outputs": [],
   "source": [
    "df_sev_day= us_accidents[['Severity','Sunrise_Sunset']]"
   ]
  },
  {
   "cell_type": "code",
   "execution_count": 22,
   "metadata": {},
   "outputs": [
    {
     "data": {
      "text/plain": [
       "Text(0, 0.5, 'Visibility (mi)')"
      ]
     },
     "execution_count": 22,
     "metadata": {},
     "output_type": "execute_result"
    },
    {
     "data": {
      "image/png": "[encoded data removed]",
      "text/plain": [
       "<Figure size 720x432 with 1 Axes>"
      ]
     },
     "metadata": {
      "needs_background": "light"
     },
     "output_type": "display_data"
    }
   ],
   "source": [
    "fig, ax = plt.subplots(figsize=(10, 6))\n",
    "ax.set_title('Accident Severity by Visibility', fontsize=18)\n",
    "ax.plot(df['Severity'], df['Visibility(mi)'], 'ko');\n",
    "plt.xlabel(\"Severity\")\n",
    "plt.ylabel('Visibility (mi)')\n"
   ]
  },
  {
   "cell_type": "markdown",
   "execution_count": null,
   "metadata": {},
   "source": [
    "### In the above scatter plot, I examine the relationship between Severity and Visibility. The easy takeaway from this distribution and is that most accidents occuring in the dataset have a severity of either two or three. The next takeaway is, more serious accidents are on a decline if there's more than 80 miles of visibility do drivers. So the most actionable insights here are to not speed through curves, uphill roads, downhill rows, or in dense fog. Extreme caution must be used when approaching driving scenarios with less visibility."
   ]
  },
  {
   "cell_type": "code",
   "execution_count": 23,
   "metadata": {},
   "outputs": [
    {
     "data": {
      "text/plain": [
       "Text(0, 0.5, 'Day Part')"
      ]
     },
     "execution_count": 23,
     "metadata": {},
     "output_type": "execute_result"
    },
    {
     "data": {
      "image/png": "[encoded data removed]",
      "text/plain": [
       "<Figure size 432x288 with 1 Axes>"
      ]
     },
     "metadata": {
      "needs_background": "light"
     },
     "output_type": "display_data"
    }
   ],
   "source": [
    "sns.boxplot(x='Severity', y='Sunrise_Sunset', data=df_sev_day, linewidth=2.5)\n",
    "plt.title('Accident Severity by part of day', fontsize=14)\n",
    "plt.xlabel('Severity of Accident', fontsize=12)\n",
    "plt.ylabel('Day Part', fontsize=12)"
   ]
  },
  {
   "cell_type": "markdown",
   "execution_count": null,
   "metadata": {},
   "source": [
    "### This last visualization just confirms accident severity does not differ by time of day. While the scatter plot has proved a lack of visibility can increase the likelihood of higher severity accidents, this visibility shouldn't be directly attributed to night driving."
   ]
  },
  {
   "cell_type": "markdown",
   "execution_count": null,
   "metadata": {},
   "source": [
    "# Conclusion\n",
    "\n",
    "\n",
    "### This notebook featured data cleaning, analysis, and visualization of a car accident dataset with well over two million entries. This was a fun, timely datasets with some insights that may be worth sharing with a friend, coworker, or family member. \n",
    "\n",
    "\n",
    "### Thanks for reading and be safe!\n",
    "\n",
    "### - Montel N. Hardy\n"
   ]
  },
  {
   "cell_type": "code",
   "execution_count": null,
   "metadata": {},
   "outputs": [],
   "source": []
  }
 ],
 "metadata": {
  "kernelspec": {
   "display_name": "Python 3",
   "language": "python",
   "name": "python3"
  },
  "language_info": {
   "codemirror_mode": {
    "name": "ipython",
    "version": 3
   },
   "file_extension": ".py",
   "mimetype": "text/x-python",
   "name": "python",
   "nbconvert_exporter": "python",
   "pygments_lexer": "ipython3",
   "version": "3.7.6"
  }
 },
 "nbformat": 4,
 "nbformat_minor": 4
}
